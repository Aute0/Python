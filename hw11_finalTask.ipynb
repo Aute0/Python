{
  "nbformat": 4,
  "nbformat_minor": 0,
  "metadata": {
    "colab": {
      "provenance": [],
      "collapsed_sections": [],
      "include_colab_link": true
    },
    "kernelspec": {
      "name": "python3",
      "display_name": "Python 3"
    },
    "language_info": {
      "name": "python"
    }
  },
  "cells": [
    {
      "cell_type": "markdown",
      "metadata": {
        "id": "view-in-github",
        "colab_type": "text"
      },
      "source": [
        "<a href=\"https://colab.research.google.com/github/Aute0/Python/blob/main/hw11_finalTask.ipynb\" target=\"_parent\"><img src=\"https://colab.research.google.com/assets/colab-badge.svg\" alt=\"Open In Colab\"/></a>"
      ]
    },
    {
      "cell_type": "markdown",
      "source": [
        "# Домашняя работа к семинару №11"
      ],
      "metadata": {
        "id": "1O4puZFux8v-"
      }
    },
    {
      "cell_type": "markdown",
      "source": [
        "Условия задачи:\n",
        "f(x) = -12x^4*sin(cos(x)) - 18x^3+5x^2 + 10x - 30\n",
        "\n",
        "1. Определить корни\n",
        "2. Найти интервалы, на которых функция возрастает\n",
        "3. Найти интервалы, на которых функция убывает\n",
        "4. Построить график\n",
        "5. Вычислить вершину\n",
        "6. Определить промежутки, на котором f > 0\n",
        "7. Определить промежутки, на котором f < 0"
      ],
      "metadata": {
        "id": "qlVRgwWSyOIP"
      }
    },
    {
      "cell_type": "code",
      "source": [
        "from sympy import *\n",
        "from sympy.plotting import plot\n",
        "import math\n",
        "init_printing()"
      ],
      "metadata": {
        "id": "8GgZC9z2zxV9"
      },
      "execution_count": 14,
      "outputs": []
    },
    {
      "cell_type": "code",
      "source": [
        "x = sympy.symbols('x')"
      ],
      "metadata": {
        "id": "WzR7A6o207MK"
      },
      "execution_count": 10,
      "outputs": []
    },
    {
      "cell_type": "code",
      "source": [
        "f = ((-12 * (x ** 4)) * (sin(cos(x))) - (18 * (x ** 3)) + (5 * (x ** 2)) + 10 * x - 30)"
      ],
      "metadata": {
        "id": "sINcFsjc9ewR"
      },
      "execution_count": 15,
      "outputs": []
    },
    {
      "cell_type": "code",
      "source": [
        "f"
      ],
      "metadata": {
        "colab": {
          "base_uri": "https://localhost:8080/",
          "height": 38
        },
        "id": "2yr4B_2N95gd",
        "outputId": "56d2c936-c2f8-4c9d-b32b-4dac081bc375"
      },
      "execution_count": 16,
      "outputs": [
        {
          "output_type": "execute_result",
          "data": {
            "text/plain": [
              "      4                   3      2            \n",
              "- 12⋅x ⋅sin(cos(x)) - 18⋅x  + 5⋅x  + 10⋅x - 30"
            ],
            "image/png": "[encoded data removed]",
            "text/latex": "$\\displaystyle - 12 x^{4} \\sin{\\left(\\cos{\\left(x \\right)} \\right)} - 18 x^{3} + 5 x^{2} + 10 x - 30$"
          },
          "metadata": {},
          "execution_count": 16
        }
      ]
    },
    {
      "cell_type": "code",
      "source": [
        "solveset(f)"
      ],
      "metadata": {
        "colab": {
          "base_uri": "https://localhost:8080/",
          "height": 38
        },
        "id": "ggYh2O0_B_6f",
        "outputId": "9e647d45-6b44-4053-bbf3-e310140c0aa6"
      },
      "execution_count": 17,
      "outputs": [
        {
          "output_type": "execute_result",
          "data": {
            "text/plain": [
              "⎧            ⎛      4                   3      2                ⎞⎫\n",
              "⎨x | x ∊ ℂ ∧ ⎝- 12⋅x ⋅sin(cos(x)) - 18⋅x  + 5⋅x  + 10⋅x - 30 = 0⎠⎬\n",
              "⎩                                                                ⎭"
            ],
            "image/png": "[encoded data removed]",
            "text/latex": "$\\displaystyle \\left\\{x \\mid x \\in \\mathbb{C} \\wedge - 12 x^{4} \\sin{\\left(\\cos{\\left(x \\right)} \\right)} - 18 x^{3} + 5 x^{2} + 10 x - 30 = 0 \\right\\}$"
          },
          "metadata": {},
          "execution_count": 17
        }
      ]
    },
    {
      "cell_type": "code",
      "source": [
        "plot(f, line_color='red')\n",
        "print(f)"
      ],
      "metadata": {
        "colab": {
          "base_uri": "https://localhost:8080/",
          "height": 315
        },
        "id": "WyVCRZMpBBN7",
        "outputId": "e6850222-e57c-4b5b-adea-3f83b9bec08e"
      },
      "execution_count": 18,
      "outputs": [
        {
          "output_type": "display_data",
          "data": {
            "text/plain": [
              "<Figure size 432x288 with 1 Axes>"
            ],
            "image/png": "[encoded data removed]"
          },
          "metadata": {
            "needs_background": "light"
          }
        },
        {
          "output_type": "stream",
          "name": "stdout",
          "text": [
            "-12*x**4*sin(cos(x)) - 18*x**3 + 5*x**2 + 10*x - 30\n"
          ]
        }
      ]
    },
    {
      "cell_type": "markdown",
      "source": [
        "Множество всех значений x, принадлежащих множеству комплексных чисел и для которых верно уравнение f(x)"
      ],
      "metadata": {
        "id": "7GQc_-G6O9Sr"
      }
    },
    {
      "cell_type": "markdown",
      "source": [
        "Функция имеет точки экстремума (перегиба) и видимую точку минимума при х~7. \n",
        "Функция строго возрастает при х>7 и на промежутке от [-7.3;-4.8]\n",
        "Функция убывает от [-10;-7.3)U(-4.8;0)U(4.8;7]"
      ],
      "metadata": {
        "id": "GznX0lr2OqUW"
      }
    },
    {
      "cell_type": "markdown",
      "source": [
        "Для определения периодов возрастания и убывания функции возьмем производную от f: "
      ],
      "metadata": {
        "id": "-vJnowHdWx-i"
      }
    },
    {
      "cell_type": "code",
      "source": [
        "f"
      ],
      "metadata": {
        "colab": {
          "base_uri": "https://localhost:8080/",
          "height": 38
        },
        "outputId": "4a184a3f-f9fe-4391-9c59-15623088ab6c",
        "id": "31MzZzXoXRBv"
      },
      "execution_count": 24,
      "outputs": [
        {
          "output_type": "execute_result",
          "data": {
            "text/plain": [
              "      4                   3      2            \n",
              "- 12⋅x ⋅sin(cos(x)) - 18⋅x  + 5⋅x  + 10⋅x - 30"
            ],
            "image/png": "[encoded data removed]",
            "text/latex": "$\\displaystyle - 12 x^{4} \\sin{\\left(\\cos{\\left(x \\right)} \\right)} - 18 x^{3} + 5 x^{2} + 10 x - 30$"
          },
          "metadata": {},
          "execution_count": 24
        }
      ]
    },
    {
      "cell_type": "code",
      "source": [
        "f, ff = sympy.symbols('f ff')\n",
        "f = ((-12 * (x ** 4)) * (sin(cos(x))) - (18 * (x ** 3)) + (5 * (x ** 2)) + 10 * x - 30)\n",
        "ff = sympy.diff(f)\n",
        "print(ff)"
      ],
      "metadata": {
        "colab": {
          "base_uri": "https://localhost:8080/"
        },
        "id": "5xAOSsHxWYtv",
        "outputId": "5ac32802-0265-47af-f230-ae8d368b1e7d"
      },
      "execution_count": 19,
      "outputs": [
        {
          "output_type": "stream",
          "name": "stdout",
          "text": [
            "12*x**4*sin(x)*cos(cos(x)) - 48*x**3*sin(cos(x)) - 54*x**2 + 10*x + 10\n"
          ]
        }
      ]
    },
    {
      "cell_type": "markdown",
      "source": [
        "Производная функии равна:"
      ],
      "metadata": {
        "id": "BFLOKA__XfVw"
      }
    },
    {
      "cell_type": "code",
      "source": [
        "ff"
      ],
      "metadata": {
        "colab": {
          "base_uri": "https://localhost:8080/",
          "height": 38
        },
        "id": "lGwd4BvfXXcp",
        "outputId": "dd53f007-20b5-4cf0-8194-64114245bcc5"
      },
      "execution_count": 20,
      "outputs": [
        {
          "output_type": "execute_result",
          "data": {
            "text/plain": [
              "    4                          3                   2            \n",
              "12⋅x ⋅sin(x)⋅cos(cos(x)) - 48⋅x ⋅sin(cos(x)) - 54⋅x  + 10⋅x + 10"
            ],
            "image/png": "[encoded data removed]",
            "text/latex": "$\\displaystyle 12 x^{4} \\sin{\\left(x \\right)} \\cos{\\left(\\cos{\\left(x \\right)} \\right)} - 48 x^{3} \\sin{\\left(\\cos{\\left(x \\right)} \\right)} - 54 x^{2} + 10 x + 10$"
          },
          "metadata": {},
          "execution_count": 20
        }
      ]
    },
    {
      "cell_type": "code",
      "source": [
        "plot(ff)"
      ],
      "metadata": {
        "colab": {
          "base_uri": "https://localhost:8080/",
          "height": 315
        },
        "id": "5wqk3fD9YFNL",
        "outputId": "004e83f8-73f6-4667-e93a-f74a2a108078"
      },
      "execution_count": 21,
      "outputs": [
        {
          "output_type": "display_data",
          "data": {
            "text/plain": [
              "<Figure size 432x288 with 1 Axes>"
            ],
            "image/png": "[encoded data removed]"
          },
          "metadata": {
            "needs_background": "light"
          }
        },
        {
          "output_type": "execute_result",
          "data": {
            "text/plain": [
              "<sympy.plotting.plot.Plot at 0x7f19ef3ebd90>"
            ]
          },
          "metadata": {},
          "execution_count": 21
        }
      ]
    },
    {
      "cell_type": "markdown",
      "source": [
        "График производной функции также показывает интервалы возрастания и убывания функции. Там где производная функции **больше 0**, сама функция **возрастает**, а где производная **меньше 0,** функция **убывает**. В тех точках, где производная **обращается в 0** находятся **экстремумы** функции."
      ],
      "metadata": {
        "id": "lFV8-rTDKMma"
      }
    }
  ]
}